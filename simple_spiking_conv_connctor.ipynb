{
 "cells": [
  {
   "cell_type": "code",
   "execution_count": 1,
   "id": "09015e94-62a1-43b0-a88e-81b55eaba169",
   "metadata": {},
   "outputs": [],
   "source": [
    "import numpy as np\n",
    "import torch\n",
    "from snntorch import spikegen\n",
    "from tqdm import tqdm\n",
    "from torchvision import datasets, transforms\n",
    "import matplotlib.pylab as plt\n",
    "import spynnaker.pyNN as p\n",
    "transform=transforms.Compose([\n",
    "            transforms.Resize((28,28)),\n",
    "            transforms.Grayscale(num_output_channels=1),\n",
    "            transforms.ToTensor(),\n",
    "            transforms.Normalize((0,),(1,))])\n",
    "dataPath='~/datasets' \n",
    "cifar_trainset = datasets.MNIST(dataPath, train=True, download=True, transform = transform)"
   ]
  },
  {
   "cell_type": "code",
   "execution_count": 2,
   "id": "69edeef5-3de4-4dba-b3c1-5c53b9152db3",
   "metadata": {},
   "outputs": [],
   "source": [
    "def convert_to_latency_code(input_data, samples_intervel=5, time_step=5, num_steps=10):# To make SpikeSourceArray \n",
    "    input_size  = np.prod(input_data.shape)\n",
    "    print(input_size)\n",
    "    slice_interval=time_step\n",
    "    input_interval=samples_intervel\n",
    "\n",
    "    number_of_digits=len(input_data)\n",
    "    coded_digits=[]\n",
    "    for i in range(number_of_digits):\n",
    "        s=spikegen.rate((torch.t(input_data[i][0:28,0:28]/255)).float(),num_steps=num_steps)\n",
    "        coded_digits.append(s[:-1])\n",
    "    current_time=5#  \n",
    "    spikes_time_source_array=[[] for _ in range(input_size )]\n",
    "    with tqdm(total=number_of_digits) as pbar:\n",
    "        for coded_digit_counter,coded_digit in enumerate(coded_digits):\n",
    "            for time_slice_counter, time_slice in enumerate(coded_digit):\n",
    "                timed_flatten_time_slice=time_slice.view(-1)*current_time\n",
    "                for  spike_time_index in torch.nonzero(timed_flatten_time_slice):\n",
    "                    spikes_time_source_array[spike_time_index].append(timed_flatten_time_slice[spike_time_index].item())\n",
    "                current_time+=slice_interval\n",
    "            current_time+=input_interval\n",
    "            pbar.update(1)\n",
    "    return (current_time, spikes_time_source_array)"
   ]
  },
  {
   "cell_type": "code",
   "execution_count": 3,
   "id": "9a8ada6c-fa0c-4d02-af8b-9cc124961ed1",
   "metadata": {},
   "outputs": [
    {
     "name": "stdout",
     "output_type": "stream",
     "text": [
      "input_data shape: torch.Size([28, 28])\n"
     ]
    },
    {
     "data": {
      "application/vnd.jupyter.widget-view+json": {
       "model_id": "397fecabcc0241afbf708cc13975604c",
       "version_major": 2,
       "version_minor": 0
      },
      "text/plain": [
       "Canvas(toolbar=Toolbar(toolitems=[('Home', 'Reset original view', 'home', 'home'), ('Back', 'Back to previous …"
      ]
     },
     "metadata": {},
     "output_type": "display_data"
    },
    {
     "data": {
      "text/plain": [
       "<matplotlib.image.AxesImage at 0x7f046cecef70>"
      ]
     },
     "execution_count": 3,
     "metadata": {},
     "output_type": "execute_result"
    }
   ],
   "source": [
    "input_data = cifar_trainset.data[1]\n",
    "print(f'input_data shape: {input_data.shape}')\n",
    "plt.figure(figsize=(1,1))\n",
    "plt.imshow(input_data)"
   ]
  },
  {
   "cell_type": "markdown",
   "id": "4e4426b8-b823-4a3c-bc3e-9c88d6097be8",
   "metadata": {},
   "source": [
    "## To show an application, I added some s&p noise to data to see how a average filter can reduce the amount of noise using the conve layer"
   ]
  },
  {
   "cell_type": "code",
   "execution_count": 4,
   "id": "bd3647ef-4bc9-4efe-ae86-0393e7fa99de",
   "metadata": {},
   "outputs": [
    {
     "data": {
      "application/vnd.jupyter.widget-view+json": {
       "model_id": "9cfad414e76640d48cd2d8fc12f158b7",
       "version_major": 2,
       "version_minor": 0
      },
      "text/plain": [
       "Canvas(toolbar=Toolbar(toolitems=[('Home', 'Reset original view', 'home', 'home'), ('Back', 'Back to previous …"
      ]
     },
     "metadata": {},
     "output_type": "display_data"
    },
    {
     "data": {
      "text/plain": [
       "<matplotlib.image.AxesImage at 0x7f046cdf48e0>"
      ]
     },
     "execution_count": 4,
     "metadata": {},
     "output_type": "execute_result"
    }
   ],
   "source": [
    "#adding noise in data\n",
    "noise_factor = 0.07\n",
    "\n",
    "from skimage.util import random_noise\n",
    "noisy_input_data = random_noise(input_data, mode=\"s&p\",clip=True, amount=noise_factor)\n",
    "plt.figure(figsize=(1,1))\n",
    "plt.imshow(noisy_input_data)"
   ]
  },
  {
   "cell_type": "code",
   "execution_count": 5,
   "id": "97e1087c-b65f-4aaf-9bbb-c57956ded35a",
   "metadata": {},
   "outputs": [
    {
     "name": "stdout",
     "output_type": "stream",
     "text": [
      "784\n"
     ]
    },
    {
     "name": "stderr",
     "output_type": "stream",
     "text": [
      "100%|██████████| 1/1 [00:00<00:00, 35.71it/s]\n"
     ]
    }
   ],
   "source": [
    "run_time, SSA = convert_to_latency_code(torch.tensor(noisy_input_data).unsqueeze(0), time_step=5, num_steps= 1000 )"
   ]
  },
  {
   "cell_type": "code",
   "execution_count": 6,
   "id": "3e0c5a2d-dab1-44af-adbb-002930ea13f5",
   "metadata": {},
   "outputs": [
    {
     "name": "stdout",
     "output_type": "stream",
     "text": [
      "output size: 26*26\n"
     ]
    }
   ],
   "source": [
    "################################################# Custum convolution parameters (kernel and stride/ no padding is implemented) \n",
    "kernel = np.array([[ 1, 1, 1],\n",
    "             [ 1, 1, 1],\n",
    "             [ 1, 1, 1]])#*1/16\n",
    "\n",
    "kernel*=10\n",
    "stride = 1\n",
    "\n",
    "################################################# Connection List\n",
    "\n",
    "input_size = input_data.shape\n",
    "input_as_index_array = np.arange(np.prod(input_size))\n",
    "input_as_index_array = input_as_index_array.reshape(input_size)\n",
    "\n",
    "\n",
    "conv_connection_list = []\n",
    "post = 0\n",
    "out_size = 0\n",
    "for y in range(0, input_as_index_array.shape[1]-kernel.shape[1]+1, stride):\n",
    "    for x in range(0, input_as_index_array.shape[0]-kernel.shape[0]+1, stride):\n",
    "        sub_mat = input_as_index_array[y:y+kernel.shape[0], x:x+kernel.shape[0]]\n",
    "        out_size +=1\n",
    "        for i, pre in enumerate(sub_mat.flatten()):\n",
    "            tup = ( pre, post, kernel.flatten()[i], .1)\n",
    "            conv_connection_list.append(tup)\n",
    "        post +=1\n",
    "print(f'output size: {int(np.sqrt(out_size))}*{int(np.sqrt(out_size))}')\n",
    "output_size_x, output_size_y = int(np.sqrt(out_size)), int(np.sqrt(out_size))"
   ]
  },
  {
   "cell_type": "code",
   "execution_count": 7,
   "id": "d4080a16-67db-4559-a88e-cb1c439001a8",
   "metadata": {},
   "outputs": [],
   "source": [
    "excitatory_neuron_parameters = {'tau_m': 20.0,\n",
    "                                 'cm': 1.0,\n",
    "                                 'v_rest': -65.0,\n",
    "                                 'v_reset': -65.0,\n",
    "                                 'v_thresh': -63.0,\n",
    "                                 'tau_syn_E': 5.0,\n",
    "                                 'tau_syn_I': 5.0,\n",
    "                                 'tau_refrac': 0.1,\n",
    "                                 'i_offset': 0.0}"
   ]
  },
  {
   "cell_type": "code",
   "execution_count": null,
   "id": "353d66bd-677a-41df-9a34-04bbe5390c85",
   "metadata": {},
   "outputs": [],
   "source": [
    "p.setup(timestep = 1)\n",
    "ssa = p.Population(np.prod(input_size), p.SpikeSourceArray(spike_times=SSA), label = 'pop_ssa')\n",
    "\n",
    "\n",
    "pop_out = p.Population(output_size_x*output_size_y,\n",
    "                      p.IF_curr_exp(**excitatory_neuron_parameters),\n",
    "                      label = 'pop_xy')\n",
    "ssa_out_prj = p.Projection(ssa, \n",
    "             pop_out, \n",
    "             p.FromListConnector(conv_connection_list),\n",
    "             p.StaticSynapse())\n",
    "\n",
    "ssa.record('spikes')\n",
    "pop_out.record('spikes')\n",
    "p.run(run_time)\n"
   ]
  },
  {
   "cell_type": "code",
   "execution_count": 10,
   "id": "fd1b8a16-b7a6-4306-83da-dcc4ce974b91",
   "metadata": {},
   "outputs": [],
   "source": [
    "output_spike_trains=[pop_out.get_data(\"spikes\").segments[0].spiketrains[i][:] for i in range(output_size_x*output_size_y)]\n"
   ]
  },
  {
   "cell_type": "code",
   "execution_count": 11,
   "id": "0887ca22-6044-4827-a764-bc353e0d1b4d",
   "metadata": {},
   "outputs": [
    {
     "data": {
      "application/vnd.jupyter.widget-view+json": {
       "model_id": "4fee7b97d1a848198cf22de25b555b9a",
       "version_major": 2,
       "version_minor": 0
      },
      "text/plain": [
       "Canvas(toolbar=Toolbar(toolitems=[('Home', 'Reset original view', 'home', 'home'), ('Back', 'Back to previous …"
      ]
     },
     "metadata": {},
     "output_type": "display_data"
    },
    {
     "data": {
      "application/vnd.jupyter.widget-view+json": {
       "model_id": "750fdc7696184de0a1c0ef3b09216fe1",
       "version_major": 2,
       "version_minor": 0
      },
      "text/plain": [
       "Canvas(toolbar=Toolbar(toolitems=[('Home', 'Reset original view', 'home', 'home'), ('Back', 'Back to previous …"
      ]
     },
     "metadata": {},
     "output_type": "display_data"
    },
    {
     "data": {
      "text/plain": [
       "<matplotlib.image.AxesImage at 0x7f03bc396430>"
      ]
     },
     "execution_count": 11,
     "metadata": {},
     "output_type": "execute_result"
    }
   ],
   "source": [
    "output = np.array([len(s) for s in output_spike_trains])\n",
    "plt.figure(figsize=(1,1))\n",
    "plt.imshow(noisy_input_data)\n",
    "plt.figure(figsize=(1,1))\n",
    "plt.imshow(np.array(output).reshape((output_size_x,output_size_y)).T)#int(np.sqrt(out_size)), int(np.sqrt(out_size))))"
   ]
  }
 ],
 "metadata": {
  "kernelspec": {
   "display_name": "sPyNNakerGit",
   "language": "python",
   "name": "spynnakergit"
  },
  "language_info": {
   "codemirror_mode": {
    "name": "ipython",
    "version": 3
   },
   "file_extension": ".py",
   "mimetype": "text/x-python",
   "name": "python",
   "nbconvert_exporter": "python",
   "pygments_lexer": "ipython3",
   "version": "3.8.5"
  }
 },
 "nbformat": 4,
 "nbformat_minor": 5
}
